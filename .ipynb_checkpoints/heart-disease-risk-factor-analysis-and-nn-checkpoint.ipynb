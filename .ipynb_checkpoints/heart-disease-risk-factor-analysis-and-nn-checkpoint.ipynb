{
 "cells": [
  {
   "cell_type": "markdown",
   "id": "d09218f5",
   "metadata": {
    "papermill": {
     "duration": 0.03259,
     "end_time": "2022-09-02T20:59:01.516240",
     "exception": false,
     "start_time": "2022-09-02T20:59:01.483650",
     "status": "completed"
    },
    "tags": []
   },
   "source": [
    "# Introduction"
   ]
  },
  {
   "cell_type": "markdown",
   "id": "54fcb0ad",
   "metadata": {
    "papermill": {
     "duration": 0.030748,
     "end_time": "2022-09-02T20:59:01.578697",
     "exception": false,
     "start_time": "2022-09-02T20:59:01.547949",
     "status": "completed"
    },
    "tags": []
   },
   "source": [
    "According to the CDC, heart disease is one of the leading causes of death for people of most races in the US (African Americans, American Indians and Alaska Natives, and white people). About half of all Americans (47%) have at least 1 of 3 key risk factors for heart disease: high blood pressure, high cholesterol, and smoking. Other key indicator include diabetic status, obesity (high BMI), not getting enough physical activity or drinking too much alcohol. Detecting and preventing the factors that have the greatest impact on heart disease is very important in healthcare. Computational developments, in turn, allow the application of machine learning methods to detect \"patterns\" from the data that can predict a patient's condition."
   ]
  },
  {
   "cell_type": "markdown",
   "id": "38745983",
   "metadata": {
    "papermill": {
     "duration": 0.031192,
     "end_time": "2022-09-02T20:59:01.644896",
     "exception": false,
     "start_time": "2022-09-02T20:59:01.613704",
     "status": "completed"
    },
    "tags": []
   },
   "source": [
    "# Objectives"
   ]
  },
  {
   "cell_type": "markdown",
   "id": "216cee9c",
   "metadata": {
    "papermill": {
     "duration": 0.030255,
     "end_time": "2022-09-02T20:59:01.706130",
     "exception": false,
     "start_time": "2022-09-02T20:59:01.675875",
     "status": "completed"
    },
    "tags": []
   },
   "source": [
    "1. Perform analysis of dataset, observing relationships between features and target\n",
    "\n",
    "2. Create a Neural Network to perform binary classification of target status"
   ]
  },
  {
   "cell_type": "markdown",
   "id": "b0b5a05b",
   "metadata": {
    "papermill": {
     "duration": 0.032134,
     "end_time": "2022-09-02T20:59:01.768159",
     "exception": false,
     "start_time": "2022-09-02T20:59:01.736025",
     "status": "completed"
    },
    "tags": []
   },
   "source": [
    "# Import data"
   ]
  },
  {
   "cell_type": "code",
   "execution_count": 3,
   "id": "242157f8",
   "metadata": {
    "execution": {
     "iopub.execute_input": "2022-09-02T20:59:01.831354Z",
     "iopub.status.busy": "2022-09-02T20:59:01.831024Z",
     "iopub.status.idle": "2022-09-02T20:59:01.856456Z",
     "shell.execute_reply": "2022-09-02T20:59:01.855335Z"
    },
    "papermill": {
     "duration": 0.059614,
     "end_time": "2022-09-02T20:59:01.858539",
     "exception": false,
     "start_time": "2022-09-02T20:59:01.798925",
     "status": "completed"
    },
    "tags": []
   },
   "outputs": [],
   "source": [
    "# This Python 3 environment comes with many helpful analytics libraries installed\n",
    "# It is defined by the kaggle/python Docker image: https://github.com/kaggle/docker-python\n",
    "# For example, here's several helpful packages to load\n",
    "\n",
    "import numpy as np # linear algebra\n",
    "import pandas as pd # data processing, CSV file I/O (e.g. pd.read_csv)\n",
    "\n",
    "import warnings\n",
    "warnings.filterwarnings('ignore')\n",
    "\n",
    "# Input data files are available in the read-only \"../input/\" directory\n",
    "# For example, running this (by clicking run or pressing Shift+Enter) will list all files under the input directory\n",
    "\n",
    "# import os\n",
    "# for dirname, _, filenames in os.walk('/kaggle/input'):\n",
    "#     for filename in filenames:\n",
    "#         print(os.path.join(dirname, filename))\n",
    "\n",
    "# You can write up to 20GB to the current directory (/kaggle/working/) that gets preserved as output when you create a version using \"Save & Run All\" \n",
    "# You can also write temporary files to /kaggle/temp/, but they won't be saved outside of the current session\n"
   ]
  },
  {
   "cell_type": "code",
   "execution_count": 4,
   "id": "1c528833",
   "metadata": {
    "execution": {
     "iopub.execute_input": "2022-09-02T20:59:01.922407Z",
     "iopub.status.busy": "2022-09-02T20:59:01.922156Z",
     "iopub.status.idle": "2022-09-02T20:59:02.748734Z",
     "shell.execute_reply": "2022-09-02T20:59:02.747470Z"
    },
    "papermill": {
     "duration": 0.861847,
     "end_time": "2022-09-02T20:59:02.751257",
     "exception": false,
     "start_time": "2022-09-02T20:59:01.889410",
     "status": "completed"
    },
    "tags": []
   },
   "outputs": [
    {
     "data": {
      "text/html": [
       "<div>\n",
       "<style scoped>\n",
       "    .dataframe tbody tr th:only-of-type {\n",
       "        vertical-align: middle;\n",
       "    }\n",
       "\n",
       "    .dataframe tbody tr th {\n",
       "        vertical-align: top;\n",
       "    }\n",
       "\n",
       "    .dataframe thead th {\n",
       "        text-align: right;\n",
       "    }\n",
       "</style>\n",
       "<table border=\"1\" class=\"dataframe\">\n",
       "  <thead>\n",
       "    <tr style=\"text-align: right;\">\n",
       "      <th></th>\n",
       "      <th>HeartDisease</th>\n",
       "      <th>BMI</th>\n",
       "      <th>Smoking</th>\n",
       "      <th>AlcoholDrinking</th>\n",
       "      <th>Stroke</th>\n",
       "      <th>PhysicalHealth</th>\n",
       "      <th>MentalHealth</th>\n",
       "      <th>DiffWalking</th>\n",
       "      <th>Sex</th>\n",
       "      <th>AgeCategory</th>\n",
       "      <th>Race</th>\n",
       "      <th>Diabetic</th>\n",
       "      <th>PhysicalActivity</th>\n",
       "      <th>GenHealth</th>\n",
       "      <th>SleepTime</th>\n",
       "      <th>Asthma</th>\n",
       "      <th>KidneyDisease</th>\n",
       "      <th>SkinCancer</th>\n",
       "    </tr>\n",
       "  </thead>\n",
       "  <tbody>\n",
       "    <tr>\n",
       "      <th>0</th>\n",
       "      <td>No</td>\n",
       "      <td>16.60</td>\n",
       "      <td>Yes</td>\n",
       "      <td>No</td>\n",
       "      <td>No</td>\n",
       "      <td>3.0</td>\n",
       "      <td>30.0</td>\n",
       "      <td>No</td>\n",
       "      <td>Female</td>\n",
       "      <td>55-59</td>\n",
       "      <td>White</td>\n",
       "      <td>Yes</td>\n",
       "      <td>Yes</td>\n",
       "      <td>Very good</td>\n",
       "      <td>5.0</td>\n",
       "      <td>Yes</td>\n",
       "      <td>No</td>\n",
       "      <td>Yes</td>\n",
       "    </tr>\n",
       "    <tr>\n",
       "      <th>1</th>\n",
       "      <td>No</td>\n",
       "      <td>20.34</td>\n",
       "      <td>No</td>\n",
       "      <td>No</td>\n",
       "      <td>Yes</td>\n",
       "      <td>0.0</td>\n",
       "      <td>0.0</td>\n",
       "      <td>No</td>\n",
       "      <td>Female</td>\n",
       "      <td>80 or older</td>\n",
       "      <td>White</td>\n",
       "      <td>No</td>\n",
       "      <td>Yes</td>\n",
       "      <td>Very good</td>\n",
       "      <td>7.0</td>\n",
       "      <td>No</td>\n",
       "      <td>No</td>\n",
       "      <td>No</td>\n",
       "    </tr>\n",
       "    <tr>\n",
       "      <th>2</th>\n",
       "      <td>No</td>\n",
       "      <td>26.58</td>\n",
       "      <td>Yes</td>\n",
       "      <td>No</td>\n",
       "      <td>No</td>\n",
       "      <td>20.0</td>\n",
       "      <td>30.0</td>\n",
       "      <td>No</td>\n",
       "      <td>Male</td>\n",
       "      <td>65-69</td>\n",
       "      <td>White</td>\n",
       "      <td>Yes</td>\n",
       "      <td>Yes</td>\n",
       "      <td>Fair</td>\n",
       "      <td>8.0</td>\n",
       "      <td>Yes</td>\n",
       "      <td>No</td>\n",
       "      <td>No</td>\n",
       "    </tr>\n",
       "    <tr>\n",
       "      <th>3</th>\n",
       "      <td>No</td>\n",
       "      <td>24.21</td>\n",
       "      <td>No</td>\n",
       "      <td>No</td>\n",
       "      <td>No</td>\n",
       "      <td>0.0</td>\n",
       "      <td>0.0</td>\n",
       "      <td>No</td>\n",
       "      <td>Female</td>\n",
       "      <td>75-79</td>\n",
       "      <td>White</td>\n",
       "      <td>No</td>\n",
       "      <td>No</td>\n",
       "      <td>Good</td>\n",
       "      <td>6.0</td>\n",
       "      <td>No</td>\n",
       "      <td>No</td>\n",
       "      <td>Yes</td>\n",
       "    </tr>\n",
       "    <tr>\n",
       "      <th>4</th>\n",
       "      <td>No</td>\n",
       "      <td>23.71</td>\n",
       "      <td>No</td>\n",
       "      <td>No</td>\n",
       "      <td>No</td>\n",
       "      <td>28.0</td>\n",
       "      <td>0.0</td>\n",
       "      <td>Yes</td>\n",
       "      <td>Female</td>\n",
       "      <td>40-44</td>\n",
       "      <td>White</td>\n",
       "      <td>No</td>\n",
       "      <td>Yes</td>\n",
       "      <td>Very good</td>\n",
       "      <td>8.0</td>\n",
       "      <td>No</td>\n",
       "      <td>No</td>\n",
       "      <td>No</td>\n",
       "    </tr>\n",
       "  </tbody>\n",
       "</table>\n",
       "</div>"
      ],
      "text/plain": [
       "  HeartDisease    BMI Smoking AlcoholDrinking Stroke  PhysicalHealth  \\\n",
       "0           No  16.60     Yes              No     No             3.0   \n",
       "1           No  20.34      No              No    Yes             0.0   \n",
       "2           No  26.58     Yes              No     No            20.0   \n",
       "3           No  24.21      No              No     No             0.0   \n",
       "4           No  23.71      No              No     No            28.0   \n",
       "\n",
       "   MentalHealth DiffWalking     Sex  AgeCategory   Race Diabetic  \\\n",
       "0          30.0          No  Female        55-59  White      Yes   \n",
       "1           0.0          No  Female  80 or older  White       No   \n",
       "2          30.0          No    Male        65-69  White      Yes   \n",
       "3           0.0          No  Female        75-79  White       No   \n",
       "4           0.0         Yes  Female        40-44  White       No   \n",
       "\n",
       "  PhysicalActivity  GenHealth  SleepTime Asthma KidneyDisease SkinCancer  \n",
       "0              Yes  Very good        5.0    Yes            No        Yes  \n",
       "1              Yes  Very good        7.0     No            No         No  \n",
       "2              Yes       Fair        8.0    Yes            No         No  \n",
       "3               No       Good        6.0     No            No        Yes  \n",
       "4              Yes  Very good        8.0     No            No         No  "
      ]
     },
     "execution_count": 4,
     "metadata": {},
     "output_type": "execute_result"
    }
   ],
   "source": [
    "# Read the csv file and preview the table\n",
    "heart = pd.read_csv(\"heart_2020_cleaned.csv\")\n",
    "heart.head()"
   ]
  },
  {
   "cell_type": "code",
   "execution_count": 5,
   "id": "0789ba96",
   "metadata": {
    "execution": {
     "iopub.execute_input": "2022-09-02T20:59:02.823050Z",
     "iopub.status.busy": "2022-09-02T20:59:02.822769Z",
     "iopub.status.idle": "2022-09-02T20:59:02.829729Z",
     "shell.execute_reply": "2022-09-02T20:59:02.828249Z"
    },
    "papermill": {
     "duration": 0.044141,
     "end_time": "2022-09-02T20:59:02.831852",
     "exception": false,
     "start_time": "2022-09-02T20:59:02.787711",
     "status": "completed"
    },
    "tags": []
   },
   "outputs": [
    {
     "data": {
      "text/plain": [
       "(319795, 18)"
      ]
     },
     "execution_count": 5,
     "metadata": {},
     "output_type": "execute_result"
    }
   ],
   "source": [
    "#determine shape of table (# of rows and # of columns)\n",
    "heart.shape"
   ]
  },
  {
   "cell_type": "markdown",
   "id": "81645980",
   "metadata": {
    "papermill": {
     "duration": 0.032475,
     "end_time": "2022-09-02T20:59:02.900260",
     "exception": false,
     "start_time": "2022-09-02T20:59:02.867785",
     "status": "completed"
    },
    "tags": []
   },
   "source": [
    "# Data Preparation"
   ]
  },
  {
   "cell_type": "code",
   "execution_count": 6,
   "id": "31f106ba",
   "metadata": {
    "execution": {
     "iopub.execute_input": "2022-09-02T20:59:02.975741Z",
     "iopub.status.busy": "2022-09-02T20:59:02.975449Z",
     "iopub.status.idle": "2022-09-02T20:59:03.186481Z",
     "shell.execute_reply": "2022-09-02T20:59:03.183917Z"
    },
    "papermill": {
     "duration": 0.255289,
     "end_time": "2022-09-02T20:59:03.189657",
     "exception": false,
     "start_time": "2022-09-02T20:59:02.934368",
     "status": "completed"
    },
    "tags": []
   },
   "outputs": [
    {
     "data": {
      "text/plain": [
       "HeartDisease        False\n",
       "BMI                 False\n",
       "Smoking             False\n",
       "AlcoholDrinking     False\n",
       "Stroke              False\n",
       "PhysicalHealth      False\n",
       "MentalHealth        False\n",
       "DiffWalking         False\n",
       "Sex                 False\n",
       "AgeCategory         False\n",
       "Race                False\n",
       "Diabetic            False\n",
       "PhysicalActivity    False\n",
       "GenHealth           False\n",
       "SleepTime           False\n",
       "Asthma              False\n",
       "KidneyDisease       False\n",
       "SkinCancer          False\n",
       "dtype: bool"
      ]
     },
     "execution_count": 6,
     "metadata": {},
     "output_type": "execute_result"
    }
   ],
   "source": [
    "# Check for null values\n",
    "heart.isnull().any()"
   ]
  },
  {
   "cell_type": "markdown",
   "id": "72647e1d",
   "metadata": {
    "papermill": {
     "duration": 0.043142,
     "end_time": "2022-09-02T20:59:03.273941",
     "exception": false,
     "start_time": "2022-09-02T20:59:03.230799",
     "status": "completed"
    },
    "tags": []
   },
   "source": [
    "Looks like this dataset is pretty clean with no missing values, meaning we will not have to impute to fill in any gaps. "
   ]
  },
  {
   "cell_type": "markdown",
   "id": "2c5bd4e3",
   "metadata": {
    "papermill": {
     "duration": 0.039315,
     "end_time": "2022-09-02T20:59:03.359114",
     "exception": false,
     "start_time": "2022-09-02T20:59:03.319799",
     "status": "completed"
    },
    "tags": []
   },
   "source": [
    "# Categorical Variable Conversion"
   ]
  },
  {
   "cell_type": "code",
   "execution_count": 7,
   "id": "b10c111e",
   "metadata": {
    "execution": {
     "iopub.execute_input": "2022-09-02T20:59:03.436991Z",
     "iopub.status.busy": "2022-09-02T20:59:03.436648Z",
     "iopub.status.idle": "2022-09-02T20:59:03.445068Z",
     "shell.execute_reply": "2022-09-02T20:59:03.443649Z"
    },
    "papermill": {
     "duration": 0.050515,
     "end_time": "2022-09-02T20:59:03.448274",
     "exception": false,
     "start_time": "2022-09-02T20:59:03.397759",
     "status": "completed"
    },
    "tags": []
   },
   "outputs": [
    {
     "name": "stdout",
     "output_type": "stream",
     "text": [
      "Categorical variables:\n",
      "['HeartDisease', 'Smoking', 'AlcoholDrinking', 'Stroke', 'DiffWalking', 'Sex', 'AgeCategory', 'Race', 'Diabetic', 'PhysicalActivity', 'GenHealth', 'Asthma', 'KidneyDisease', 'SkinCancer']\n"
     ]
    }
   ],
   "source": [
    "# Get list of categorical variables\n",
    "s = (heart.dtypes == 'object')\n",
    "object_cols = list(s[s].index)\n",
    "\n",
    "print(\"Categorical variables:\")\n",
    "print(object_cols)"
   ]
  },
  {
   "cell_type": "markdown",
   "id": "a84cacda",
   "metadata": {
    "papermill": {
     "duration": 0.03529,
     "end_time": "2022-09-02T20:59:03.521328",
     "exception": false,
     "start_time": "2022-09-02T20:59:03.486038",
     "status": "completed"
    },
    "tags": []
   },
   "source": [
    "First, let's convert simple yes/no categorical data to a binary output"
   ]
  },
  {
   "cell_type": "code",
   "execution_count": 8,
   "id": "531651c9",
   "metadata": {
    "execution": {
     "iopub.execute_input": "2022-09-02T20:59:03.593388Z",
     "iopub.status.busy": "2022-09-02T20:59:03.593096Z",
     "iopub.status.idle": "2022-09-02T20:59:04.067951Z",
     "shell.execute_reply": "2022-09-02T20:59:04.066111Z"
    },
    "papermill": {
     "duration": 0.512659,
     "end_time": "2022-09-02T20:59:04.071071",
     "exception": false,
     "start_time": "2022-09-02T20:59:03.558412",
     "status": "completed"
    },
    "tags": []
   },
   "outputs": [
    {
     "data": {
      "text/html": [
       "<div>\n",
       "<style scoped>\n",
       "    .dataframe tbody tr th:only-of-type {\n",
       "        vertical-align: middle;\n",
       "    }\n",
       "\n",
       "    .dataframe tbody tr th {\n",
       "        vertical-align: top;\n",
       "    }\n",
       "\n",
       "    .dataframe thead th {\n",
       "        text-align: right;\n",
       "    }\n",
       "</style>\n",
       "<table border=\"1\" class=\"dataframe\">\n",
       "  <thead>\n",
       "    <tr style=\"text-align: right;\">\n",
       "      <th></th>\n",
       "      <th>HeartDisease</th>\n",
       "      <th>BMI</th>\n",
       "      <th>Smoking</th>\n",
       "      <th>AlcoholDrinking</th>\n",
       "      <th>Stroke</th>\n",
       "      <th>PhysicalHealth</th>\n",
       "      <th>MentalHealth</th>\n",
       "      <th>DiffWalking</th>\n",
       "      <th>Sex</th>\n",
       "      <th>AgeCategory</th>\n",
       "      <th>Race</th>\n",
       "      <th>Diabetic</th>\n",
       "      <th>PhysicalActivity</th>\n",
       "      <th>GenHealth</th>\n",
       "      <th>SleepTime</th>\n",
       "      <th>Asthma</th>\n",
       "      <th>KidneyDisease</th>\n",
       "      <th>SkinCancer</th>\n",
       "    </tr>\n",
       "  </thead>\n",
       "  <tbody>\n",
       "    <tr>\n",
       "      <th>0</th>\n",
       "      <td>0</td>\n",
       "      <td>16.60</td>\n",
       "      <td>1</td>\n",
       "      <td>0</td>\n",
       "      <td>0</td>\n",
       "      <td>3.0</td>\n",
       "      <td>30.0</td>\n",
       "      <td>0</td>\n",
       "      <td>Female</td>\n",
       "      <td>55-59</td>\n",
       "      <td>White</td>\n",
       "      <td>1.0</td>\n",
       "      <td>1</td>\n",
       "      <td>Very good</td>\n",
       "      <td>5.0</td>\n",
       "      <td>1</td>\n",
       "      <td>0</td>\n",
       "      <td>1</td>\n",
       "    </tr>\n",
       "    <tr>\n",
       "      <th>1</th>\n",
       "      <td>0</td>\n",
       "      <td>20.34</td>\n",
       "      <td>0</td>\n",
       "      <td>0</td>\n",
       "      <td>1</td>\n",
       "      <td>0.0</td>\n",
       "      <td>0.0</td>\n",
       "      <td>0</td>\n",
       "      <td>Female</td>\n",
       "      <td>80 or older</td>\n",
       "      <td>White</td>\n",
       "      <td>0.0</td>\n",
       "      <td>1</td>\n",
       "      <td>Very good</td>\n",
       "      <td>7.0</td>\n",
       "      <td>0</td>\n",
       "      <td>0</td>\n",
       "      <td>0</td>\n",
       "    </tr>\n",
       "    <tr>\n",
       "      <th>2</th>\n",
       "      <td>0</td>\n",
       "      <td>26.58</td>\n",
       "      <td>1</td>\n",
       "      <td>0</td>\n",
       "      <td>0</td>\n",
       "      <td>20.0</td>\n",
       "      <td>30.0</td>\n",
       "      <td>0</td>\n",
       "      <td>Male</td>\n",
       "      <td>65-69</td>\n",
       "      <td>White</td>\n",
       "      <td>1.0</td>\n",
       "      <td>1</td>\n",
       "      <td>Fair</td>\n",
       "      <td>8.0</td>\n",
       "      <td>1</td>\n",
       "      <td>0</td>\n",
       "      <td>0</td>\n",
       "    </tr>\n",
       "    <tr>\n",
       "      <th>3</th>\n",
       "      <td>0</td>\n",
       "      <td>24.21</td>\n",
       "      <td>0</td>\n",
       "      <td>0</td>\n",
       "      <td>0</td>\n",
       "      <td>0.0</td>\n",
       "      <td>0.0</td>\n",
       "      <td>0</td>\n",
       "      <td>Female</td>\n",
       "      <td>75-79</td>\n",
       "      <td>White</td>\n",
       "      <td>0.0</td>\n",
       "      <td>0</td>\n",
       "      <td>Good</td>\n",
       "      <td>6.0</td>\n",
       "      <td>0</td>\n",
       "      <td>0</td>\n",
       "      <td>1</td>\n",
       "    </tr>\n",
       "    <tr>\n",
       "      <th>4</th>\n",
       "      <td>0</td>\n",
       "      <td>23.71</td>\n",
       "      <td>0</td>\n",
       "      <td>0</td>\n",
       "      <td>0</td>\n",
       "      <td>28.0</td>\n",
       "      <td>0.0</td>\n",
       "      <td>1</td>\n",
       "      <td>Female</td>\n",
       "      <td>40-44</td>\n",
       "      <td>White</td>\n",
       "      <td>0.0</td>\n",
       "      <td>1</td>\n",
       "      <td>Very good</td>\n",
       "      <td>8.0</td>\n",
       "      <td>0</td>\n",
       "      <td>0</td>\n",
       "      <td>0</td>\n",
       "    </tr>\n",
       "  </tbody>\n",
       "</table>\n",
       "</div>"
      ],
      "text/plain": [
       "   HeartDisease    BMI  Smoking  AlcoholDrinking  Stroke  PhysicalHealth  \\\n",
       "0             0  16.60        1                0       0             3.0   \n",
       "1             0  20.34        0                0       1             0.0   \n",
       "2             0  26.58        1                0       0            20.0   \n",
       "3             0  24.21        0                0       0             0.0   \n",
       "4             0  23.71        0                0       0            28.0   \n",
       "\n",
       "   MentalHealth  DiffWalking     Sex  AgeCategory   Race  Diabetic  \\\n",
       "0          30.0            0  Female        55-59  White       1.0   \n",
       "1           0.0            0  Female  80 or older  White       0.0   \n",
       "2          30.0            0    Male        65-69  White       1.0   \n",
       "3           0.0            0  Female        75-79  White       0.0   \n",
       "4           0.0            1  Female        40-44  White       0.0   \n",
       "\n",
       "   PhysicalActivity  GenHealth  SleepTime  Asthma  KidneyDisease  SkinCancer  \n",
       "0                 1  Very good        5.0       1              0           1  \n",
       "1                 1  Very good        7.0       0              0           0  \n",
       "2                 1       Fair        8.0       1              0           0  \n",
       "3                 0       Good        6.0       0              0           1  \n",
       "4                 1  Very good        8.0       0              0           0  "
      ]
     },
     "execution_count": 8,
     "metadata": {},
     "output_type": "execute_result"
    }
   ],
   "source": [
    "column_yesno = [\"HeartDisease\", \"Smoking\", \"AlcoholDrinking\", \"Stroke\", \"DiffWalking\", \"Diabetic\", \"PhysicalActivity\", \"Asthma\", \"KidneyDisease\", \"SkinCancer\"]\n",
    "\n",
    "heart[column_yesno] = heart[column_yesno].apply(lambda x: x.map({'Yes':1,'No':0}))\n",
    "heart.head()"
   ]
  },
  {
   "cell_type": "code",
   "execution_count": 9,
   "id": "bf5292c7",
   "metadata": {
    "execution": {
     "iopub.execute_input": "2022-09-02T20:59:04.144098Z",
     "iopub.status.busy": "2022-09-02T20:59:04.143370Z",
     "iopub.status.idle": "2022-09-02T20:59:04.218769Z",
     "shell.execute_reply": "2022-09-02T20:59:04.217263Z"
    },
    "papermill": {
     "duration": 0.113981,
     "end_time": "2022-09-02T20:59:04.221682",
     "exception": false,
     "start_time": "2022-09-02T20:59:04.107701",
     "status": "completed"
    },
    "tags": []
   },
   "outputs": [
    {
     "name": "stdout",
     "output_type": "stream",
     "text": [
      "<class 'pandas.core.frame.DataFrame'>\n",
      "RangeIndex: 319795 entries, 0 to 319794\n",
      "Data columns (total 18 columns):\n",
      " #   Column            Non-Null Count   Dtype  \n",
      "---  ------            --------------   -----  \n",
      " 0   HeartDisease      319795 non-null  int64  \n",
      " 1   BMI               319795 non-null  float64\n",
      " 2   Smoking           319795 non-null  int64  \n",
      " 3   AlcoholDrinking   319795 non-null  int64  \n",
      " 4   Stroke            319795 non-null  int64  \n",
      " 5   PhysicalHealth    319795 non-null  float64\n",
      " 6   MentalHealth      319795 non-null  float64\n",
      " 7   DiffWalking       319795 non-null  int64  \n",
      " 8   Sex               319795 non-null  object \n",
      " 9   AgeCategory       319795 non-null  object \n",
      " 10  Race              319795 non-null  object \n",
      " 11  Diabetic          310455 non-null  float64\n",
      " 12  PhysicalActivity  319795 non-null  int64  \n",
      " 13  GenHealth         319795 non-null  object \n",
      " 14  SleepTime         319795 non-null  float64\n",
      " 15  Asthma            319795 non-null  int64  \n",
      " 16  KidneyDisease     319795 non-null  int64  \n",
      " 17  SkinCancer        319795 non-null  int64  \n",
      "dtypes: float64(5), int64(9), object(4)\n",
      "memory usage: 43.9+ MB\n"
     ]
    }
   ],
   "source": [
    "# Check the data\n",
    "heart.info()\n",
    "heart_orig = heart"
   ]
  },
  {
   "cell_type": "code",
   "execution_count": 10,
   "id": "677aa354",
   "metadata": {
    "execution": {
     "iopub.execute_input": "2022-09-02T20:59:04.293346Z",
     "iopub.status.busy": "2022-09-02T20:59:04.293066Z",
     "iopub.status.idle": "2022-09-02T20:59:04.332272Z",
     "shell.execute_reply": "2022-09-02T20:59:04.331713Z"
    },
    "papermill": {
     "duration": 0.076876,
     "end_time": "2022-09-02T20:59:04.334293",
     "exception": false,
     "start_time": "2022-09-02T20:59:04.257417",
     "status": "completed"
    },
    "tags": []
   },
   "outputs": [
    {
     "name": "stdout",
     "output_type": "stream",
     "text": [
      "Numerical variables:\n",
      "['BMI', 'Smoking', 'AlcoholDrinking', 'Stroke', 'PhysicalHealth', 'MentalHealth', 'DiffWalking', 'Diabetic', 'PhysicalActivity', 'SleepTime', 'Asthma', 'KidneyDisease', 'SkinCancer']\n",
      "Categorical variables:\n",
      "['Sex', 'AgeCategory', 'Race', 'GenHealth']\n"
     ]
    }
   ],
   "source": [
    "X = heart.copy()\n",
    "y = X.pop('HeartDisease')\n",
    "\n",
    "features_num = [\n",
    "    'BMI','Smoking','AlcoholDrinking','Stroke','PhysicalHealth','MentalHealth','DiffWalking','Diabetic','PhysicalActivity','SleepTime','Asthma','KidneyDisease','SkinCancer'\n",
    "]\n",
    "\n",
    "features_cat = [\n",
    "    'Sex','AgeCategory','Race','GenHealth'\n",
    "]\n",
    "\n",
    "print(\"Numerical variables:\")\n",
    "print(features_num)\n",
    "\n",
    "print(\"Categorical variables:\")\n",
    "print(features_cat)"
   ]
  },
  {
   "cell_type": "markdown",
   "id": "3bbb432c",
   "metadata": {
    "papermill": {
     "duration": 0.036667,
     "end_time": "2022-09-02T20:59:04.406881",
     "exception": false,
     "start_time": "2022-09-02T20:59:04.370214",
     "status": "completed"
    },
    "tags": []
   },
   "source": [
    "# Data Visualization\n",
    "\n",
    "Before we ingest our data into a data pipeline for our Neural Network, let's do some basic data analysis and visualization to gain some insight. First, we'll make a copy of the dataframe that we can work off of."
   ]
  },
  {
   "cell_type": "code",
   "execution_count": 11,
   "id": "9395e3b9",
   "metadata": {
    "execution": {
     "iopub.execute_input": "2022-09-02T20:59:04.483754Z",
     "iopub.status.busy": "2022-09-02T20:59:04.483436Z",
     "iopub.status.idle": "2022-09-02T20:59:04.532731Z",
     "shell.execute_reply": "2022-09-02T20:59:04.531526Z"
    },
    "papermill": {
     "duration": 0.089496,
     "end_time": "2022-09-02T20:59:04.535129",
     "exception": false,
     "start_time": "2022-09-02T20:59:04.445633",
     "status": "completed"
    },
    "tags": []
   },
   "outputs": [
    {
     "data": {
      "text/html": [
       "<div>\n",
       "<style scoped>\n",
       "    .dataframe tbody tr th:only-of-type {\n",
       "        vertical-align: middle;\n",
       "    }\n",
       "\n",
       "    .dataframe tbody tr th {\n",
       "        vertical-align: top;\n",
       "    }\n",
       "\n",
       "    .dataframe thead th {\n",
       "        text-align: right;\n",
       "    }\n",
       "</style>\n",
       "<table border=\"1\" class=\"dataframe\">\n",
       "  <thead>\n",
       "    <tr style=\"text-align: right;\">\n",
       "      <th></th>\n",
       "      <th>HeartDisease</th>\n",
       "      <th>BMI</th>\n",
       "      <th>Smoking</th>\n",
       "      <th>AlcoholDrinking</th>\n",
       "      <th>Stroke</th>\n",
       "      <th>PhysicalHealth</th>\n",
       "      <th>MentalHealth</th>\n",
       "      <th>DiffWalking</th>\n",
       "      <th>Sex</th>\n",
       "      <th>AgeCategory</th>\n",
       "      <th>Race</th>\n",
       "      <th>Diabetic</th>\n",
       "      <th>PhysicalActivity</th>\n",
       "      <th>GenHealth</th>\n",
       "      <th>SleepTime</th>\n",
       "      <th>Asthma</th>\n",
       "      <th>KidneyDisease</th>\n",
       "      <th>SkinCancer</th>\n",
       "    </tr>\n",
       "  </thead>\n",
       "  <tbody>\n",
       "    <tr>\n",
       "      <th>0</th>\n",
       "      <td>0</td>\n",
       "      <td>16.60</td>\n",
       "      <td>1</td>\n",
       "      <td>0</td>\n",
       "      <td>0</td>\n",
       "      <td>3.0</td>\n",
       "      <td>30.0</td>\n",
       "      <td>0</td>\n",
       "      <td>Female</td>\n",
       "      <td>55-59</td>\n",
       "      <td>White</td>\n",
       "      <td>1.0</td>\n",
       "      <td>1</td>\n",
       "      <td>Very good</td>\n",
       "      <td>5.0</td>\n",
       "      <td>1</td>\n",
       "      <td>0</td>\n",
       "      <td>1</td>\n",
       "    </tr>\n",
       "    <tr>\n",
       "      <th>1</th>\n",
       "      <td>0</td>\n",
       "      <td>20.34</td>\n",
       "      <td>0</td>\n",
       "      <td>0</td>\n",
       "      <td>1</td>\n",
       "      <td>0.0</td>\n",
       "      <td>0.0</td>\n",
       "      <td>0</td>\n",
       "      <td>Female</td>\n",
       "      <td>80 or older</td>\n",
       "      <td>White</td>\n",
       "      <td>0.0</td>\n",
       "      <td>1</td>\n",
       "      <td>Very good</td>\n",
       "      <td>7.0</td>\n",
       "      <td>0</td>\n",
       "      <td>0</td>\n",
       "      <td>0</td>\n",
       "    </tr>\n",
       "    <tr>\n",
       "      <th>2</th>\n",
       "      <td>0</td>\n",
       "      <td>26.58</td>\n",
       "      <td>1</td>\n",
       "      <td>0</td>\n",
       "      <td>0</td>\n",
       "      <td>20.0</td>\n",
       "      <td>30.0</td>\n",
       "      <td>0</td>\n",
       "      <td>Male</td>\n",
       "      <td>65-69</td>\n",
       "      <td>White</td>\n",
       "      <td>1.0</td>\n",
       "      <td>1</td>\n",
       "      <td>Fair</td>\n",
       "      <td>8.0</td>\n",
       "      <td>1</td>\n",
       "      <td>0</td>\n",
       "      <td>0</td>\n",
       "    </tr>\n",
       "    <tr>\n",
       "      <th>3</th>\n",
       "      <td>0</td>\n",
       "      <td>24.21</td>\n",
       "      <td>0</td>\n",
       "      <td>0</td>\n",
       "      <td>0</td>\n",
       "      <td>0.0</td>\n",
       "      <td>0.0</td>\n",
       "      <td>0</td>\n",
       "      <td>Female</td>\n",
       "      <td>75-79</td>\n",
       "      <td>White</td>\n",
       "      <td>0.0</td>\n",
       "      <td>0</td>\n",
       "      <td>Good</td>\n",
       "      <td>6.0</td>\n",
       "      <td>0</td>\n",
       "      <td>0</td>\n",
       "      <td>1</td>\n",
       "    </tr>\n",
       "    <tr>\n",
       "      <th>4</th>\n",
       "      <td>0</td>\n",
       "      <td>23.71</td>\n",
       "      <td>0</td>\n",
       "      <td>0</td>\n",
       "      <td>0</td>\n",
       "      <td>28.0</td>\n",
       "      <td>0.0</td>\n",
       "      <td>1</td>\n",
       "      <td>Female</td>\n",
       "      <td>40-44</td>\n",
       "      <td>White</td>\n",
       "      <td>0.0</td>\n",
       "      <td>1</td>\n",
       "      <td>Very good</td>\n",
       "      <td>8.0</td>\n",
       "      <td>0</td>\n",
       "      <td>0</td>\n",
       "      <td>0</td>\n",
       "    </tr>\n",
       "  </tbody>\n",
       "</table>\n",
       "</div>"
      ],
      "text/plain": [
       "   HeartDisease    BMI  Smoking  AlcoholDrinking  Stroke  PhysicalHealth  \\\n",
       "0             0  16.60        1                0       0             3.0   \n",
       "1             0  20.34        0                0       1             0.0   \n",
       "2             0  26.58        1                0       0            20.0   \n",
       "3             0  24.21        0                0       0             0.0   \n",
       "4             0  23.71        0                0       0            28.0   \n",
       "\n",
       "   MentalHealth  DiffWalking     Sex  AgeCategory   Race  Diabetic  \\\n",
       "0          30.0            0  Female        55-59  White       1.0   \n",
       "1           0.0            0  Female  80 or older  White       0.0   \n",
       "2          30.0            0    Male        65-69  White       1.0   \n",
       "3           0.0            0  Female        75-79  White       0.0   \n",
       "4           0.0            1  Female        40-44  White       0.0   \n",
       "\n",
       "   PhysicalActivity  GenHealth  SleepTime  Asthma  KidneyDisease  SkinCancer  \n",
       "0                 1  Very good        5.0       1              0           1  \n",
       "1                 1  Very good        7.0       0              0           0  \n",
       "2                 1       Fair        8.0       1              0           0  \n",
       "3                 0       Good        6.0       0              0           1  \n",
       "4                 1  Very good        8.0       0              0           0  "
      ]
     },
     "execution_count": 11,
     "metadata": {},
     "output_type": "execute_result"
    }
   ],
   "source": [
    "data = heart.copy()\n",
    "data.head()"
   ]
  },
  {
   "cell_type": "markdown",
   "id": "c023b918",
   "metadata": {
    "papermill": {
     "duration": 0.03489,
     "end_time": "2022-09-02T20:59:04.605464",
     "exception": false,
     "start_time": "2022-09-02T20:59:04.570574",
     "status": "completed"
    },
    "tags": []
   },
   "source": [
    "First,let's take a look at the distribution of the data by Sex."
   ]
  },
  {
   "cell_type": "code",
   "execution_count": 12,
   "id": "abb7f125",
   "metadata": {
    "execution": {
     "iopub.execute_input": "2022-09-02T20:59:04.675531Z",
     "iopub.status.busy": "2022-09-02T20:59:04.675228Z",
     "iopub.status.idle": "2022-09-02T20:59:06.091734Z",
     "shell.execute_reply": "2022-09-02T20:59:06.090781Z"
    },
    "papermill": {
     "duration": 1.453572,
     "end_time": "2022-09-02T20:59:06.093927",
     "exception": false,
     "start_time": "2022-09-02T20:59:04.640355",
     "status": "completed"
    },
    "tags": []
   },
   "outputs": [
    {
     "data": {
      "image/png": "[encoded data removed]",
      "text/plain": [
       "<Figure size 432x288 with 1 Axes>"
      ]
     },
     "metadata": {},
     "output_type": "display_data"
    }
   ],
   "source": [
    "import seaborn as sns\n",
    "import matplotlib.pyplot as plt\n",
    "\n",
    "total_male = data['Sex'].loc[data['Sex'] == 'Male'].count()\n",
    "percent_male = total_male/len(data.index)\n",
    "total_female = len(data.index)-total_male\n",
    "percent_female = total_female/len(data.index)\n",
    "\n",
    "#define data for pie chart\n",
    "gender_percent = [percent_male,percent_female]\n",
    "labels = ['Male', 'Female']\n",
    "\n",
    "#define color palette\n",
    "colors = sns.color_palette('pastel')[0:5]\n",
    "\n",
    "#create pie chart\n",
    "plt.pie(gender_percent, labels=labels, colors=colors, autopct='%.0f%%')\n",
    "plt.show()"
   ]
  },
  {
   "cell_type": "markdown",
   "id": "ee6d9060",
   "metadata": {
    "papermill": {
     "duration": 0.047631,
     "end_time": "2022-09-02T20:59:06.191749",
     "exception": false,
     "start_time": "2022-09-02T20:59:06.144118",
     "status": "completed"
    },
    "tags": []
   },
   "source": [
    "Great, it looks like our data is well represented with both Male and Female participants.\n",
    "\n",
    "Now, let's do the same but with disease status."
   ]
  },
  {
   "cell_type": "code",
   "execution_count": 13,
   "id": "68579333",
   "metadata": {
    "execution": {
     "iopub.execute_input": "2022-09-02T20:59:06.263785Z",
     "iopub.status.busy": "2022-09-02T20:59:06.263209Z",
     "iopub.status.idle": "2022-09-02T20:59:06.350440Z",
     "shell.execute_reply": "2022-09-02T20:59:06.349333Z"
    },
    "papermill": {
     "duration": 0.125553,
     "end_time": "2022-09-02T20:59:06.353552",
     "exception": false,
     "start_time": "2022-09-02T20:59:06.227999",
     "status": "completed"
    },
    "tags": []
   },
   "outputs": [
    {
     "data": {
      "image/png": "[encoded data removed]",
      "text/plain": [
       "<Figure size 432x288 with 1 Axes>"
      ]
     },
     "metadata": {},
     "output_type": "display_data"
    }
   ],
   "source": [
    "total_disease = data['HeartDisease'].loc[data['HeartDisease'] == 1].count()\n",
    "total_healthy = data['HeartDisease'].loc[data['HeartDisease'] == 0].count()\n",
    "\n",
    "disease_percent = [(total_disease/len(data)), (total_healthy/len(data))]\n",
    "labels = ['Heart Disease', 'Healthy']\n",
    "\n",
    "#define color palette\n",
    "colors = sns.color_palette('pastel')[0:5]\n",
    "\n",
    "#create pie chart\n",
    "plt.pie(disease_percent, labels=labels, colors=colors, autopct='%.0f%%')\n",
    "plt.show()"
   ]
  },
  {
   "cell_type": "markdown",
   "id": "5648b5b8",
   "metadata": {
    "papermill": {
     "duration": 0.049693,
     "end_time": "2022-09-02T20:59:06.458696",
     "exception": false,
     "start_time": "2022-09-02T20:59:06.409003",
     "status": "completed"
    },
    "tags": []
   },
   "source": [
    "As we can see, a small minority of patients in the dataset are positive for heart disease. Now, let's take a closer look into the distribution of various features among the two populations."
   ]
  },
  {
   "cell_type": "code",
   "execution_count": 14,
   "id": "3e312b72",
   "metadata": {
    "execution": {
     "iopub.execute_input": "2022-09-02T20:59:06.536304Z",
     "iopub.status.busy": "2022-09-02T20:59:06.535698Z",
     "iopub.status.idle": "2022-09-02T20:59:07.716432Z",
     "shell.execute_reply": "2022-09-02T20:59:07.715234Z"
    },
    "papermill": {
     "duration": 1.220068,
     "end_time": "2022-09-02T20:59:07.719175",
     "exception": false,
     "start_time": "2022-09-02T20:59:06.499107",
     "status": "completed"
    },
    "tags": []
   },
   "outputs": [
    {
     "data": {
      "image/png": "[encoded data removed]",
      "text/plain": [
       "<Figure size 504x504 with 1 Axes>"
      ]
     },
     "metadata": {},
     "output_type": "display_data"
    },
    {
     "data": {
      "image/png": "[encoded data removed]",
      "text/plain": [
       "<Figure size 504x504 with 1 Axes>"
      ]
     },
     "metadata": {},
     "output_type": "display_data"
    }
   ],
   "source": [
    "sns.set_theme(style=\"whitegrid\")\n",
    "\n",
    "BMI_sex = sns.catplot(data=data, kind='bar',x='Sex', y='BMI',ci='sd', palette='dark', alpha=0.5, height=7)\n",
    "\n",
    "\n",
    "BMI_heart = sns.catplot(data=data, kind='bar',x='HeartDisease', y='BMI',ci='sd', palette='dark', alpha=0.5, height=7)"
   ]
  },
  {
   "cell_type": "markdown",
   "id": "883d28d8",
   "metadata": {
    "papermill": {
     "duration": 0.036738,
     "end_time": "2022-09-02T20:59:07.792536",
     "exception": false,
     "start_time": "2022-09-02T20:59:07.755798",
     "status": "completed"
    },
    "tags": []
   },
   "source": [
    "From the graph above, we can see that there isn't a large difference between the mean BMI between male and female patients"
   ]
  },
  {
   "cell_type": "code",
   "execution_count": 15,
   "id": "463ad729",
   "metadata": {
    "execution": {
     "iopub.execute_input": "2022-09-02T20:59:07.865339Z",
     "iopub.status.busy": "2022-09-02T20:59:07.865077Z",
     "iopub.status.idle": "2022-09-02T20:59:08.544301Z",
     "shell.execute_reply": "2022-09-02T20:59:08.543727Z"
    },
    "papermill": {
     "duration": 0.718319,
     "end_time": "2022-09-02T20:59:08.546058",
     "exception": false,
     "start_time": "2022-09-02T20:59:07.827739",
     "status": "completed"
    },
    "tags": []
   },
   "outputs": [
    {
     "data": {
      "text/plain": [
       "<seaborn.axisgrid.FacetGrid at 0x243bd3497f0>"
      ]
     },
     "execution_count": 15,
     "metadata": {},
     "output_type": "execute_result"
    },
    {
     "data": {
      "image/png": "[encoded data removed]",
      "text/plain": [
       "<Figure size 1089.55x504 with 1 Axes>"
      ]
     },
     "metadata": {},
     "output_type": "display_data"
    }
   ],
   "source": [
    "sns.displot(data=data, x='BMI', hue='HeartDisease', kind='ecdf', height=7, aspect=2/1)"
   ]
  },
  {
   "cell_type": "markdown",
   "id": "ba3492c9",
   "metadata": {
    "papermill": {
     "duration": 0.045539,
     "end_time": "2022-09-02T20:59:08.635161",
     "exception": false,
     "start_time": "2022-09-02T20:59:08.589622",
     "status": "completed"
    },
    "tags": []
   },
   "source": [
    "An empirical cumulative distribution function plot (above) represents the proportion of observations falling below each unique value in a dataset. So as we can see from the plot above, comparing the two groups of patients with no heart disease (0) and positive for heart disease (1), the heart disease group is skewed towards the right. This means that for the same proportion of each group, the group with heart disease on average will have a higher BMI.\n",
    "\n",
    "To see if there is a significant difference, we will need to do some statistics. First, we will need to check if the data is normally distributed."
   ]
  },
  {
   "cell_type": "code",
   "execution_count": 16,
   "id": "b8f1b584",
   "metadata": {
    "execution": {
     "iopub.execute_input": "2022-09-02T20:59:08.721389Z",
     "iopub.status.busy": "2022-09-02T20:59:08.720532Z",
     "iopub.status.idle": "2022-09-02T20:59:08.925022Z",
     "shell.execute_reply": "2022-09-02T20:59:08.923919Z"
    },
    "papermill": {
     "duration": 0.247615,
     "end_time": "2022-09-02T20:59:08.926825",
     "exception": false,
     "start_time": "2022-09-02T20:59:08.679210",
     "status": "completed"
    },
    "tags": []
   },
   "outputs": [
    {
     "data": {
      "image/png": "[encoded data removed]",
      "text/plain": [
       "<Figure size 432x288 with 1 Axes>"
      ]
     },
     "metadata": {},
     "output_type": "display_data"
    }
   ],
   "source": [
    "plt.hist(data['BMI'])\n",
    "plt.show()"
   ]
  },
  {
   "cell_type": "markdown",
   "id": "0294faac",
   "metadata": {
    "papermill": {
     "duration": 0.043135,
     "end_time": "2022-09-02T20:59:09.011591",
     "exception": false,
     "start_time": "2022-09-02T20:59:08.968456",
     "status": "completed"
    },
    "tags": []
   },
   "source": [
    "An initial look at a histogram of BMI doesn't look like the bellcurve shape of a normal distribution."
   ]
  },
  {
   "cell_type": "code",
   "execution_count": 17,
   "id": "672b2050",
   "metadata": {
    "execution": {
     "iopub.execute_input": "2022-09-02T20:59:09.105608Z",
     "iopub.status.busy": "2022-09-02T20:59:09.105066Z",
     "iopub.status.idle": "2022-09-02T20:59:10.289505Z",
     "shell.execute_reply": "2022-09-02T20:59:10.288791Z"
    },
    "papermill": {
     "duration": 1.2342,
     "end_time": "2022-09-02T20:59:10.291316",
     "exception": false,
     "start_time": "2022-09-02T20:59:09.057116",
     "status": "completed"
    },
    "tags": []
   },
   "outputs": [
    {
     "data": {
      "image/png": "[encoded data removed]",
      "text/plain": [
       "<Figure size 432x288 with 1 Axes>"
      ]
     },
     "metadata": {},
     "output_type": "display_data"
    }
   ],
   "source": [
    "from statsmodels.graphics.gofplots import qqplot\n",
    "qqplot(data['BMI'], line='s')\n",
    "plt.show()"
   ]
  },
  {
   "cell_type": "markdown",
   "id": "94f69d80",
   "metadata": {
    "papermill": {
     "duration": 0.038431,
     "end_time": "2022-09-02T20:59:10.367341",
     "exception": false,
     "start_time": "2022-09-02T20:59:10.328910",
     "status": "completed"
    },
    "tags": []
   },
   "source": [
    "A look at the Quantile-Quantile plot suggests that BMI in this dataset is not a Gaussian/Normal distribution, where it seriously deviates from the standard line. Because of this, we will compare the mean BMI between our two groups using a non-parametric test, the Mann-Whiteney U test, the non-parametric version of the Student t-test for unpaired data."
   ]
  },
  {
   "cell_type": "code",
   "execution_count": 18,
   "id": "06d383df",
   "metadata": {
    "execution": {
     "iopub.execute_input": "2022-09-02T20:59:10.447418Z",
     "iopub.status.busy": "2022-09-02T20:59:10.447092Z",
     "iopub.status.idle": "2022-09-02T20:59:12.820635Z",
     "shell.execute_reply": "2022-09-02T20:59:12.819350Z"
    },
    "papermill": {
     "duration": 2.416063,
     "end_time": "2022-09-02T20:59:12.822618",
     "exception": false,
     "start_time": "2022-09-02T20:59:10.406555",
     "status": "completed"
    },
    "tags": []
   },
   "outputs": [
    {
     "name": "stdout",
     "output_type": "stream",
     "text": [
      "3528521416.5\n",
      "the p-value is 4.5044916093895795e-231\n",
      "Different distribution (reject H0)\n",
      "Patients with heart disease have a mean BMI of 29.40159207978655\n",
      "Patients without heart disease have a mean BMI of 28.22465833623946\n"
     ]
    },
    {
     "data": {
      "image/png": "[encoded data removed]",
      "text/plain": [
       "<Figure size 432x288 with 1 Axes>"
      ]
     },
     "metadata": {},
     "output_type": "display_data"
    }
   ],
   "source": [
    "from scipy.stats import mannwhitneyu\n",
    "\n",
    "data_disease = data[data['HeartDisease']==1]\n",
    "data_disease_BMI = data_disease['BMI']\n",
    "\n",
    "data_nodisease = data[data['HeartDisease']==0]\n",
    "data_nodisease_BMI = data_nodisease['BMI']\n",
    "\n",
    "U1, p = mannwhitneyu(data_disease_BMI, data_nodisease_BMI)\n",
    "print(U1)\n",
    "print(\"the p-value is\", p)\n",
    "# interpret\n",
    "alpha = 0.05\n",
    "if p > alpha:\n",
    "    print('Same distribution (fail to reject H0)')\n",
    "else:\n",
    "    print('Different distribution (reject H0)')\n",
    "    \n",
    "sns.kdeplot(data=data_disease_BMI, shade=True, label='Heart Disease')\n",
    "sns.kdeplot(data=data_nodisease_BMI, shade=True, label='No Heart Disease')\n",
    "plt.legend()\n",
    "\n",
    "print(\"Patients with heart disease have a mean BMI of\", data_disease_BMI.mean())\n",
    "print(\"Patients without heart disease have a mean BMI of\", data_nodisease_BMI.mean())"
   ]
  },
  {
   "cell_type": "markdown",
   "id": "14cf38df",
   "metadata": {
    "papermill": {
     "duration": 0.043296,
     "end_time": "2022-09-02T20:59:12.905552",
     "exception": false,
     "start_time": "2022-09-02T20:59:12.862256",
     "status": "completed"
    },
    "tags": []
   },
   "source": [
    "With the above Mann-Whitney U test, we get an extremely small p-value of 9.0e-231, which is magnitudes smaller than our alpha of 0.05. Therefore we can say with confidence that in our data, the BMI of patients with heart disease is significantly higher than the BMI of patients without heart disease."
   ]
  },
  {
   "cell_type": "markdown",
   "id": "f76f4ce2",
   "metadata": {
    "papermill": {
     "duration": 0.044597,
     "end_time": "2022-09-02T20:59:12.992930",
     "exception": false,
     "start_time": "2022-09-02T20:59:12.948333",
     "status": "completed"
    },
    "tags": []
   },
   "source": [
    "# Data Pipeline"
   ]
  },
  {
   "cell_type": "code",
   "execution_count": 19,
   "id": "ad5c4dee",
   "metadata": {
    "execution": {
     "iopub.execute_input": "2022-09-02T20:59:13.085851Z",
     "iopub.status.busy": "2022-09-02T20:59:13.084681Z",
     "iopub.status.idle": "2022-09-02T20:59:14.537391Z",
     "shell.execute_reply": "2022-09-02T20:59:14.536653Z"
    },
    "papermill": {
     "duration": 1.503016,
     "end_time": "2022-09-02T20:59:14.539315",
     "exception": false,
     "start_time": "2022-09-02T20:59:13.036299",
     "status": "completed"
    },
    "tags": []
   },
   "outputs": [],
   "source": [
    "from sklearn.model_selection import train_test_split\n",
    "from sklearn.preprocessing import StandardScaler, OneHotEncoder\n",
    "from sklearn.impute import SimpleImputer\n",
    "from sklearn.pipeline import make_pipeline\n",
    "from sklearn.compose import make_column_transformer\n",
    "\n",
    "transformer_num = make_pipeline(\n",
    "    SimpleImputer(strategy=\"constant\"), # unecessary, no missing values\n",
    "    StandardScaler(),\n",
    ")\n",
    "transformer_cat = make_pipeline(\n",
    "    SimpleImputer(strategy=\"constant\", fill_value=\"NA\"),\n",
    "    OneHotEncoder(handle_unknown='ignore'),\n",
    ")\n",
    "\n",
    "preprocessor = make_column_transformer(\n",
    "    (transformer_num, features_num),\n",
    "    (transformer_cat, features_cat),\n",
    ")\n",
    "\n",
    "# stratify - make sure classes are evenlly represented across splits\n",
    "X_train, X_valid, y_train, y_valid = \\\n",
    "    train_test_split(X, y, stratify=y, train_size=0.75)\n",
    "\n",
    "X_train = preprocessor.fit_transform(X_train)\n",
    "X_valid = preprocessor.transform(X_valid)\n",
    "\n",
    "input_shape = [X_train.shape[1]]"
   ]
  },
  {
   "cell_type": "markdown",
   "id": "ef394b1f",
   "metadata": {
    "papermill": {
     "duration": 0.040309,
     "end_time": "2022-09-02T20:59:14.619347",
     "exception": false,
     "start_time": "2022-09-02T20:59:14.579038",
     "status": "completed"
    },
    "tags": []
   },
   "source": [
    "# Define Neural Network"
   ]
  },
  {
   "cell_type": "code",
   "execution_count": 20,
   "id": "32401abc",
   "metadata": {
    "execution": {
     "iopub.execute_input": "2022-09-02T20:59:14.703043Z",
     "iopub.status.busy": "2022-09-02T20:59:14.702598Z",
     "iopub.status.idle": "2022-09-02T20:59:21.870605Z",
     "shell.execute_reply": "2022-09-02T20:59:21.869732Z"
    },
    "papermill": {
     "duration": 7.213705,
     "end_time": "2022-09-02T20:59:21.873168",
     "exception": false,
     "start_time": "2022-09-02T20:59:14.659463",
     "status": "completed"
    },
    "tags": []
   },
   "outputs": [],
   "source": [
    "from tensorflow import keras\n",
    "from tensorflow.keras import layers\n",
    "\n",
    "model = keras.Sequential([\n",
    "    layers.BatchNormalization(input_shape=input_shape),\n",
    "    layers.Dense(256, activation='relu'),\n",
    "    layers.BatchNormalization(),\n",
    "    layers.Dropout(0.3),\n",
    "    layers.Dense(256, activation='relu'),\n",
    "    layers.BatchNormalization(),\n",
    "    layers.Dropout(0.3),\n",
    "    layers.Dense(1, activation='sigmoid')\n",
    "])"
   ]
  },
  {
   "cell_type": "markdown",
   "id": "316cb582",
   "metadata": {
    "papermill": {
     "duration": 0.04076,
     "end_time": "2022-09-02T20:59:21.956113",
     "exception": false,
     "start_time": "2022-09-02T20:59:21.915353",
     "status": "completed"
    },
    "tags": []
   },
   "source": [
    "# Optimizer, Loss, and Metric"
   ]
  },
  {
   "cell_type": "code",
   "execution_count": 21,
   "id": "ad139618",
   "metadata": {
    "execution": {
     "iopub.execute_input": "2022-09-02T20:59:22.043653Z",
     "iopub.status.busy": "2022-09-02T20:59:22.043248Z",
     "iopub.status.idle": "2022-09-02T20:59:22.054548Z",
     "shell.execute_reply": "2022-09-02T20:59:22.054033Z"
    },
    "papermill": {
     "duration": 0.057074,
     "end_time": "2022-09-02T20:59:22.056564",
     "exception": false,
     "start_time": "2022-09-02T20:59:21.999490",
     "status": "completed"
    },
    "tags": []
   },
   "outputs": [],
   "source": [
    "model.compile(\n",
    "    optimizer='adam',\n",
    "    loss='binary_crossentropy',\n",
    "    metrics=['binary_accuracy']\n",
    ")"
   ]
  },
  {
   "cell_type": "code",
   "execution_count": 22,
   "id": "bfd8e5e3",
   "metadata": {
    "execution": {
     "iopub.execute_input": "2022-09-02T20:59:22.146661Z",
     "iopub.status.busy": "2022-09-02T20:59:22.146189Z",
     "iopub.status.idle": "2022-09-02T21:00:22.087677Z",
     "shell.execute_reply": "2022-09-02T21:00:22.086555Z"
    },
    "papermill": {
     "duration": 59.989359,
     "end_time": "2022-09-02T21:00:22.089519",
     "exception": false,
     "start_time": "2022-09-02T20:59:22.100160",
     "status": "completed"
    },
    "tags": []
   },
   "outputs": [
    {
     "name": "stdout",
     "output_type": "stream",
     "text": [
      "Epoch 1/200\n",
      "469/469 [==============================] - 2s 4ms/step - loss: 0.3239 - binary_accuracy: 0.8747 - val_loss: 0.2282 - val_binary_accuracy: 0.9144\n",
      "Epoch 2/200\n",
      "469/469 [==============================] - 2s 4ms/step - loss: 0.2364 - binary_accuracy: 0.9138 - val_loss: 0.2257 - val_binary_accuracy: 0.9157\n",
      "Epoch 3/200\n",
      "469/469 [==============================] - 2s 4ms/step - loss: 0.2304 - binary_accuracy: 0.9154 - val_loss: 0.2250 - val_binary_accuracy: 0.9156\n",
      "Epoch 4/200\n",
      "469/469 [==============================] - 2s 4ms/step - loss: 0.2288 - binary_accuracy: 0.9156 - val_loss: 0.2257 - val_binary_accuracy: 0.9156\n",
      "Epoch 5/200\n",
      "469/469 [==============================] - 2s 4ms/step - loss: 0.2276 - binary_accuracy: 0.9158 - val_loss: 0.2248 - val_binary_accuracy: 0.9156\n",
      "Epoch 6/200\n",
      "469/469 [==============================] - 2s 4ms/step - loss: 0.2267 - binary_accuracy: 0.9160 - val_loss: 0.2250 - val_binary_accuracy: 0.9158\n",
      "Epoch 7/200\n",
      "469/469 [==============================] - 2s 4ms/step - loss: 0.2264 - binary_accuracy: 0.9158 - val_loss: 0.2252 - val_binary_accuracy: 0.9154\n"
     ]
    },
    {
     "data": {
      "text/plain": [
       "<AxesSubplot:title={'center':'Accuracy'}>"
      ]
     },
     "execution_count": 22,
     "metadata": {},
     "output_type": "execute_result"
    },
    {
     "data": {
      "image/png": "[encoded data removed]",
      "text/plain": [
       "<Figure size 432x288 with 1 Axes>"
      ]
     },
     "metadata": {},
     "output_type": "display_data"
    },
    {
     "data": {
      "image/png": "[encoded data removed]",
      "text/plain": [
       "<Figure size 432x288 with 1 Axes>"
      ]
     },
     "metadata": {},
     "output_type": "display_data"
    }
   ],
   "source": [
    "early_stopping = keras.callbacks.EarlyStopping(\n",
    "    patience=5,\n",
    "    min_delta=0.001,\n",
    "    restore_best_weights=True,\n",
    ")\n",
    "history = model.fit(\n",
    "    X_train, y_train,\n",
    "    validation_data=(X_valid, y_valid),\n",
    "    batch_size=512,\n",
    "    epochs=200,\n",
    "    callbacks=[early_stopping],\n",
    ")\n",
    "\n",
    "history_df = pd.DataFrame(history.history)\n",
    "history_df.loc[:, ['loss', 'val_loss']].plot(title=\"Cross-entropy\")\n",
    "history_df.loc[:, ['binary_accuracy', 'val_binary_accuracy']].plot(title=\"Accuracy\")"
   ]
  },
  {
   "cell_type": "markdown",
   "id": "f38524ce",
   "metadata": {
    "papermill": {
     "duration": 0.37251,
     "end_time": "2022-09-02T21:00:22.821693",
     "exception": false,
     "start_time": "2022-09-02T21:00:22.449183",
     "status": "completed"
    },
    "tags": []
   },
   "source": [
    "It seems like our Neural Network learned almost everything it needed to know by the first epoch with over 90% accuracy for binary classification of Heart Disease."
   ]
  }
 ],
 "metadata": {
  "kernelspec": {
   "display_name": "Python 3",
   "language": "python",
   "name": "python3"
  },
  "language_info": {
   "codemirror_mode": {
    "name": "ipython",
    "version": 3
   },
   "file_extension": ".py",
   "mimetype": "text/x-python",
   "name": "python",
   "nbconvert_exporter": "python",
   "pygments_lexer": "ipython3",
   "version": "3.8.8"
  },
  "papermill": {
   "default_parameters": {},
   "duration": 94.838973,
   "end_time": "2022-09-02T21:00:26.726473",
   "environment_variables": {},
   "exception": null,
   "input_path": "__notebook__.ipynb",
   "output_path": "__notebook__.ipynb",
   "parameters": {},
   "start_time": "2022-09-02T20:58:51.887500",
   "version": "2.3.4"
  }
 },
 "nbformat": 4,
 "nbformat_minor": 5
}
